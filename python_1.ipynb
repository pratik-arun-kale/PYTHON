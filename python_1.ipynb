{
  "nbformat": 4,
  "nbformat_minor": 0,
  "metadata": {
    "colab": {
      "name": "python 1.ipynb",
      "provenance": []
    },
    "kernelspec": {
      "name": "python3",
      "display_name": "Python 3"
    },
    "language_info": {
      "name": "python"
    }
  },
  "cells": [
    {
      "cell_type": "code",
      "execution_count": null,
      "metadata": {
        "colab": {
          "base_uri": "https://localhost:8080/"
        },
        "id": "_ljqJVoeUJ4O",
        "outputId": "87d24185-0c31-49dd-cd55-c8ff5ba6a67b"
      },
      "outputs": [
        {
          "output_type": "stream",
          "name": "stdout",
          "text": [
            "helooo world\n"
          ]
        }
      ],
      "source": [
        "print(\"helooo world\")"
      ]
    },
    {
      "cell_type": "markdown",
      "source": [
        "\n",
        "\n",
        "```\n",
        "simple design pattern in python\n",
        "```\n",
        "\n"
      ],
      "metadata": {
        "id": "eTh691coWP7f"
      }
    },
    {
      "cell_type": "code",
      "source": [
        "print(\"--------\")\n",
        "print(\"````````\")\n",
        "print(\"|  /\\  |\")\n",
        "print(\"|      |\")\n",
        "print(\"^______^\")"
      ],
      "metadata": {
        "colab": {
          "base_uri": "https://localhost:8080/"
        },
        "id": "YqDBZ2dkUXMH",
        "outputId": "6d97bcce-b7ab-4776-d0f0-380f75d4792b"
      },
      "execution_count": null,
      "outputs": [
        {
          "output_type": "stream",
          "name": "stdout",
          "text": [
            "--------\n",
            "````````\n",
            "|  /\\  |\n",
            "|      |\n",
            "^______^\n"
          ]
        }
      ]
    },
    {
      "cell_type": "markdown",
      "source": [
        "variables and data types."
      ],
      "metadata": {
        "id": "baKc--6gXQKv"
      }
    },
    {
      "cell_type": "markdown",
      "source": [
        "string , integer, float , complex , boolean\n",
        "\n",
        "\n"
      ],
      "metadata": {
        "id": "DubxVIdqlOAA"
      }
    },
    {
      "cell_type": "markdown",
      "source": [
        "string = they are for sentances , words etc"
      ],
      "metadata": {
        "id": "m4NCBGY0mBRj"
      }
    },
    {
      "cell_type": "markdown",
      "source": [
        "integer = numerical values(not in decimal form)"
      ],
      "metadata": {
        "id": "tzqK13m0mH6_"
      }
    },
    {
      "cell_type": "markdown",
      "source": [
        "float = numerical values in decimal form."
      ],
      "metadata": {
        "id": "JxsnwWo0mRLy"
      }
    },
    {
      "cell_type": "markdown",
      "source": [
        "complex = complex numbers "
      ],
      "metadata": {
        "id": "qPC0GtYLmS8G"
      }
    },
    {
      "cell_type": "markdown",
      "source": [
        "\n",
        "boolean = True and false.\n"
      ],
      "metadata": {
        "id": "VHT1WQr7ma7o"
      }
    },
    {
      "cell_type": "code",
      "source": [
        "name = \"Pratik\"                               #string\n",
        "place = \"sangli district maharashtra\"         \n",
        "branch =\"Mechanical engineering\"\n",
        "university = \"IIT GOA\"\n",
        "CGPA = \"6.06\"\n",
        "time = 6\n",
        "# only we can add same type of data type . sring + string. we can add string in int thats why we keep 6 and 6.06 in string form.\n",
        "print(\"My name is \" +name +\"from \" +place +\".\")\n",
        "print(\"I have completed my Engineering in \" +branch +\" in \" +university +\" and I have A CGPA of \" +CGPA +\" \")\n",
        "print(\"After completing my Engineering I have also done my Python Programming which is of \" +str(time) +\" months.\")    #str()  function used to convert integer to string"
      ],
      "metadata": {
        "id": "NXXpbsSHXXmw",
        "colab": {
          "base_uri": "https://localhost:8080/"
        },
        "outputId": "5e152a86-e0a5-440f-faa6-041ca321cd2b"
      },
      "execution_count": null,
      "outputs": [
        {
          "output_type": "stream",
          "name": "stdout",
          "text": [
            "My name is Pratikfrom sangli district maharashtra.\n",
            "I have completed my Engineering in Mechanical engineering in IIT GOA and I have A CGPA of 6.06 \n",
            "After completing my Engineering I have also done my Python Programming which is of 6 months.\n"
          ]
        }
      ]
    },
    {
      "cell_type": "code",
      "source": [
        ""
      ],
      "metadata": {
        "id": "0hmfpmHarfct"
      },
      "execution_count": null,
      "outputs": []
    },
    {
      "cell_type": "markdown",
      "source": [
        "\\n is used to insert a new line."
      ],
      "metadata": {
        "id": "6iIk-2OivSHE"
      }
    },
    {
      "cell_type": "code",
      "source": [
        "phrase =\"hi coolers\"\n",
        "print(phrase.upper())      # to make uppercase.\n",
        "print(phrase.lower())     # to make lowercase\n",
        "print(phrase.islower())\n",
        "print(phrase.isupper())   # for cheaking wether it is capital or lowercase\n",
        "print(len(phrase))   # for calculating length of string\n",
        "print(phrase.replace(\"coolers\" ,\"coder\"))    # to replace something in phrase."
      ],
      "metadata": {
        "id": "HPKAOCntvWNK",
        "colab": {
          "base_uri": "https://localhost:8080/"
        },
        "outputId": "d587e45e-b6fd-415d-b27e-b615df0066b2"
      },
      "execution_count": null,
      "outputs": [
        {
          "output_type": "stream",
          "name": "stdout",
          "text": [
            "HI COOLERS\n",
            "hi coolers\n",
            "True\n",
            "False\n",
            "10\n",
            "hi coder\n"
          ]
        }
      ]
    },
    {
      "cell_type": "code",
      "source": [
        "num = 6     #assignment\n",
        "print(5+num)   #addition\n",
        "print(5-num)  #substraction\n",
        "pow(5,num)   #  power function\n"
      ],
      "metadata": {
        "colab": {
          "base_uri": "https://localhost:8080/"
        },
        "id": "MSDl5vX1fx5w",
        "outputId": "526f98ba-ec35-4ce9-ee2e-ccab7fc799dd"
      },
      "execution_count": null,
      "outputs": [
        {
          "output_type": "stream",
          "name": "stdout",
          "text": [
            "11\n",
            "-1\n"
          ]
        },
        {
          "output_type": "execute_result",
          "data": {
            "text/plain": [
              "15625"
            ]
          },
          "metadata": {},
          "execution_count": 12
        }
      ]
    },
    {
      "cell_type": "markdown",
      "source": [
        "taking inputs."
      ],
      "metadata": {
        "id": "IJtCkRL6o5YQ"
      }
    },
    {
      "cell_type": "code",
      "source": [
        "num1 =input(\"enter your num :\")\n",
        "num2 =input(\"enter 2nd number :\")\n",
        "result=float(num1) + float(num2)     #we need to use float or int as bby defualt python understand it as string\n",
        "print(result)"
      ],
      "metadata": {
        "colab": {
          "base_uri": "https://localhost:8080/"
        },
        "id": "a4V2YVBwnfWe",
        "outputId": "96e2b976-e0be-4f24-d8ea-db94226c062e"
      },
      "execution_count": null,
      "outputs": [
        {
          "output_type": "stream",
          "name": "stdout",
          "text": [
            "enter your num :12\n",
            "enter 2nd number :9.56565\n",
            "21.565649999999998\n"
          ]
        }
      ]
    },
    {
      "cell_type": "markdown",
      "source": [
        "Lists in python"
      ],
      "metadata": {
        "id": "nci9pf0kxbx1"
      }
    },
    {
      "cell_type": "code",
      "source": [
        "players = [\"messi\" ,\"CR7\" ,\"neymar\" ,\"iniesta\"]\n",
        "number = [10 ,7 ,11 ,8]\n",
        "players.insert(4 ,\"xavi\")    #for inserting at certain position.\n",
        "number.sort()                #for soting for number incresing order for string alphabetically\n",
        "players.sort()\n",
        "print(number)\n",
        "print(players)\n",
        "number.reverse()             #for reversing list\n",
        "print(number)\n",
        "\n",
        "\n",
        "\n",
        "#creating new list using for \n",
        "number = [10 ,7 ,11 ,8]\n",
        "number_square=[i*i for i in number]\n",
        "print(number_square)"
      ],
      "metadata": {
        "colab": {
          "base_uri": "https://localhost:8080/"
        },
        "id": "kl00Gr5IpdUQ",
        "outputId": "46091acb-d427-4eb2-f06e-2d4a3939a793"
      },
      "execution_count": null,
      "outputs": [
        {
          "output_type": "stream",
          "name": "stdout",
          "text": [
            "[7, 8, 10, 11]\n",
            "['CR7', 'iniesta', 'messi', 'neymar', 'xavi']\n",
            "[11, 10, 8, 7]\n",
            "[121, 100, 64, 49]\n"
          ]
        }
      ]
    },
    {
      "cell_type": "code",
      "source": [
        "#touples = they are immutable can't change after initial assognment.\n",
        "coordinate= (4,5)\n",
        "#co-ordinate[1]=10 this will not assign 10 at 1 index.\n",
        "print(coordinate[1])\n",
        "\n",
        "\n",
        "#touple recognation\n",
        "name=(\"pratik\")\n",
        "print(type(name))     #it will print string\n",
        "name =(\"pratik\" ,)    # by just puting comma\n",
        "print(type(name))     # it will print touple\n",
        "\n",
        "#for converting touple into list\n",
        "my_list = list(coordinate)\n",
        "print(type(my_list))\n",
        "\n",
        "\n",
        "\n",
        "#slicing\n",
        "a=(1,2,3,4,5,6,7)\n",
        "b=a[1:4]  #assigning values from index 1 to 3 to b\n",
        "print(b)\n",
        "\n",
        "c=a[1::2]  # it will start from index 1 to end it will take every 2nd element\n",
        "print(c)\n",
        "d=a[::-1]  #it will reverse the touple\n",
        "print(d)\n",
        "\n",
        "\n",
        "\n",
        " "
      ],
      "metadata": {
        "colab": {
          "base_uri": "https://localhost:8080/"
        },
        "id": "2GfD7x9V0toR",
        "outputId": "d5117e99-8e03-442e-cbce-490cb129c962"
      },
      "execution_count": null,
      "outputs": [
        {
          "output_type": "stream",
          "name": "stdout",
          "text": [
            "5\n",
            "<class 'str'>\n",
            "<class 'tuple'>\n",
            "<class 'list'>\n",
            "(2, 3, 4)\n",
            "(2, 4, 6)\n",
            "(7, 6, 5, 4, 3, 2, 1)\n"
          ]
        }
      ]
    },
    {
      "cell_type": "code",
      "source": [
        "# touple and list camparision memory and time\n",
        "import sys\n",
        "my_list=[\"pratik\",45,434,33222]\n",
        "my_touple=(\"pratik\",45,434,33222)\n",
        "print(sys.getsizeof(my_list),\" bytes\")\n",
        "print(sys.getsizeof(my_touple),\" bytes\")\n",
        "# we can see list take more memory than touple\n",
        "\n",
        "#time\n",
        "import timeit\n",
        "print(timeit.timeit(stmt=\"[1,2,34,56,777]\" ,number =10000000))\n",
        "print(timeit.timeit(stmt=\"(1,2,34,56,777)\" ,number =10000000))\n",
        "#we can see list take more time than touple"
      ],
      "metadata": {
        "colab": {
          "base_uri": "https://localhost:8080/"
        },
        "id": "55ziRGkDVl5n",
        "outputId": "a9fa107e-546b-4243-e3f5-01a54dcb9869"
      },
      "execution_count": null,
      "outputs": [
        {
          "output_type": "stream",
          "name": "stdout",
          "text": [
            "104  bytes\n",
            "88  bytes\n",
            "0.7374381899999207\n",
            "0.1425041610000335\n"
          ]
        }
      ]
    },
    {
      "cell_type": "markdown",
      "source": [
        "functions.\n"
      ],
      "metadata": {
        "id": "ZwovQYx73b5V"
      }
    },
    {
      "cell_type": "code",
      "source": [
        "def intro(name,collage_name):\n",
        "  print(\"Hi my name is \"+ name+\" I am doing my engineering from \"+collage_name+\" .\")\n",
        "intro(\"pratik\" ,\"IIT GOA\")\n",
        "intro(\"bharath\" ,\"NIT GOA\")\n"
      ],
      "metadata": {
        "colab": {
          "base_uri": "https://localhost:8080/"
        },
        "id": "NJwYPCsZ26Js",
        "outputId": "a0e22e9e-2c0d-4080-c202-4fc15dddba34"
      },
      "execution_count": null,
      "outputs": [
        {
          "output_type": "stream",
          "name": "stdout",
          "text": [
            "Hi my name is pratik I am doing my engineering from IIT GOA .\n",
            "Hi my name is bharath I am doing my engineering from NIT GOA .\n"
          ]
        }
      ]
    },
    {
      "cell_type": "code",
      "source": [
        "def cube(number):\n",
        "  return number*number*number\n",
        "  \n",
        "print(cube(3))"
      ],
      "metadata": {
        "colab": {
          "base_uri": "https://localhost:8080/"
        },
        "id": "BA7pHAkw4km8",
        "outputId": "028032d0-6530-423e-e8be-9411c966da70"
      },
      "execution_count": null,
      "outputs": [
        {
          "output_type": "stream",
          "name": "stdout",
          "text": [
            "27\n"
          ]
        }
      ]
    },
    {
      "cell_type": "markdown",
      "source": [
        "IF STATMENTS."
      ],
      "metadata": {
        "id": "e8-whh_0Czbm"
      }
    },
    {
      "cell_type": "code",
      "source": [
        "#simple calculator program with use of if and else statment\n",
        "num1 =float(input(\"enter number 1 :\"))\n",
        "operator =input(\"enter operator :\")\n",
        "num2=float(input(\"enter number 2 :\"))\n",
        "if operator ==\"+\" :                # if statment condition always need to be true or false to proceed further.\n",
        "  print(num1+num2)\n",
        "elif operator ==\"-\" :\n",
        "  print(num1-num2)\n",
        "elif operator ==\"*\" :\n",
        "  print(num1*num2)\n",
        "elif operator ==\"/\" :\n",
        "  print(num1/num2)\n",
        "else:\n",
        "  print(\"invalid input operator\")"
      ],
      "metadata": {
        "colab": {
          "base_uri": "https://localhost:8080/"
        },
        "id": "ZScDD1p6CjdC",
        "outputId": "c7abfcd9-a971-4845-8a0f-36739852ef68"
      },
      "execution_count": null,
      "outputs": [
        {
          "output_type": "stream",
          "name": "stdout",
          "text": [
            "enter number 1 :23.45\n",
            "enter operator :/\n",
            "enter number 2 :56.644\n",
            "0.4139891250617894\n"
          ]
        }
      ]
    },
    {
      "cell_type": "markdown",
      "source": [
        "while loops"
      ],
      "metadata": {
        "id": "3B4V3i9owDMg"
      }
    },
    {
      "cell_type": "code",
      "source": [
        "#simple guessing game using while and if else statment.\n",
        "luckynumber = \"9\"\n",
        "guess=\"\"\n",
        "guess_count=0\n",
        "guess_limit=3\n",
        "Guess_over=False\n",
        "while guess!=luckynumber and not(Guess_over):\n",
        "  if guess_count<guess_limit:\n",
        "     guess =input(\"enter the number :\")\n",
        "     guess_count+=1\n",
        "  else:\n",
        "    Guess_over=True\n",
        "if Guess_over:\n",
        "  print(\"you loose\")\n",
        "else:\n",
        "  print(\"you won\")  "
      ],
      "metadata": {
        "colab": {
          "base_uri": "https://localhost:8080/"
        },
        "id": "gr1-RfL7Itad",
        "outputId": "dd21e981-a1aa-4d7e-e2f2-3ab7e45c42dd"
      },
      "execution_count": null,
      "outputs": [
        {
          "output_type": "stream",
          "name": "stdout",
          "text": [
            "enter the number :1\n",
            "enter the number :\n",
            "enter the number :9\n",
            "you won\n"
          ]
        }
      ]
    },
    {
      "cell_type": "code",
      "source": [
        "#secreat language program.\n",
        "def translate(phrase):\n",
        "  transalation=\"\"\n",
        "  for letter in phrase:\n",
        "    if letter.lower() in \"aeiou\":\n",
        "      if letter.isupper():\n",
        "        transalation =transalation + \"P\"\n",
        "      else:\n",
        "        transalation =transalation + \"p\"\n",
        "    else:\n",
        "      transalation =transalation + letter\n",
        "  return transalation\n",
        "print(translate(input(\"enter phrase: \")))"
      ],
      "metadata": {
        "colab": {
          "base_uri": "https://localhost:8080/"
        },
        "id": "T2VUzvTFwofT",
        "outputId": "b767e914-02e2-4567-ae08-7e67f06acbc7"
      },
      "execution_count": null,
      "outputs": [
        {
          "output_type": "stream",
          "name": "stdout",
          "text": [
            "enter phrase: hii hiw are you\n",
            "hpp hpw prp ypp\n"
          ]
        }
      ]
    },
    {
      "cell_type": "markdown",
      "source": [
        "try and except"
      ],
      "metadata": {
        "id": "S8gLBLwg66Q1"
      }
    },
    {
      "cell_type": "code",
      "source": [
        "try:\n",
        " # ans =10/0\n",
        "  num = float(input(\"enter the num : \"))\n",
        "  print(num)\n",
        "except ZeroDivisionError as err:\n",
        "  print(\"zero division error\")\n",
        "except ValueError:\n",
        "  print(\"invalid input\")\n"
      ],
      "metadata": {
        "colab": {
          "base_uri": "https://localhost:8080/"
        },
        "id": "h8DBAbZ54YY6",
        "outputId": "31a99bb0-1db5-4e49-fec6-55a461bb8c45"
      },
      "execution_count": null,
      "outputs": [
        {
          "output_type": "stream",
          "name": "stdout",
          "text": [
            "enter the num : p\n",
            "invalid input\n"
          ]
        }
      ]
    },
    {
      "cell_type": "code",
      "source": [
        "class student:\n",
        "\n",
        "  def __init__(self,branch,year) -> None:\n",
        "      self.branch=branch\n",
        "      self.year=year\n",
        "\n",
        "\n",
        "  def confi(self):\n",
        "    print(\"hiii I AM engineering student from \" , self.branch ,\"engineering department in \",self.year ,\"year\")\n",
        "student1= student('mechanical' , 4)\n",
        "student2= student('computer' ,3)\n",
        "student2.branch=\"civil\"\n",
        "\n",
        "student1.confi()             #object creation\n",
        "student2.confi()"
      ],
      "metadata": {
        "id": "swR8BJ8r6-Fv",
        "colab": {
          "base_uri": "https://localhost:8080/"
        },
        "outputId": "d001e5bc-65f2-41d5-c573-f24b10feabc5"
      },
      "execution_count": null,
      "outputs": [
        {
          "output_type": "stream",
          "name": "stdout",
          "text": [
            "hiii I AM engineering student from  mechanical engineering department in  4 year\n",
            "hiii I AM engineering student from  civil engineering department in  3 year\n"
          ]
        }
      ]
    },
    {
      "cell_type": "code",
      "source": [
        "#constructor , camparing object , types of variable\n",
        "class computer:\n",
        "  colour =\"black\"     #class variable\n",
        "\n",
        "  def __init__(self) -> None:\n",
        "      self.name='AMD'\n",
        "      self.price=100        #instance variables \n",
        "\n",
        "  def campare(self,other):\n",
        "    if self.price == other.price:\n",
        "      return True\n",
        "    else:\n",
        "      return False \n",
        "c1=computer()\n",
        "c2=computer()\n",
        "c2.price=200\n",
        "print(computer.colour) #can acces through class name\n",
        "if c1.price == c2.price:\n",
        "  print(\"price is same\")\n",
        "else:\n",
        "  print(\"price is different\")"
      ],
      "metadata": {
        "colab": {
          "base_uri": "https://localhost:8080/"
        },
        "id": "-JSPyxQLmFhF",
        "outputId": "10b79ac5-91ef-41b6-8944-80443aabaf6d"
      },
      "execution_count": null,
      "outputs": [
        {
          "output_type": "stream",
          "name": "stdout",
          "text": [
            "black\n",
            "price is different\n"
          ]
        }
      ]
    },
    {
      "cell_type": "code",
      "source": [
        "#inner class\n",
        "class Student:    #outer class\n",
        "  \n",
        "\n",
        "  def __init__(self,name,rollno) -> None:\n",
        "      self.name=name\n",
        "      self.rollno=rollno \n",
        "      self.lap=self.laptop()\n",
        "\n",
        "  def show(self):\n",
        "    print(self.name , self.rollno)\n",
        "    self.lap.show()\n",
        "\n",
        "  class laptop:     #inner class\n",
        "\n",
        "    def __init__(self) -> None:\n",
        "      self.name ='HP'\n",
        "      self.price =100000\n",
        "    def show(self):\n",
        "     print(self.name ,self.price)\n",
        "\n",
        "          \n",
        "\n",
        "s1=Student('pratik',9)\n",
        "\n",
        "s1.show()\n"
      ],
      "metadata": {
        "colab": {
          "base_uri": "https://localhost:8080/"
        },
        "id": "irIhcgTCzHYi",
        "outputId": "f21dec48-38ea-449e-d84c-5226a04a4eca"
      },
      "execution_count": null,
      "outputs": [
        {
          "output_type": "stream",
          "name": "stdout",
          "text": [
            "pratik 9\n",
            "HP 100000\n"
          ]
        }
      ]
    },
    {
      "cell_type": "code",
      "source": [
        "#inheritance\n",
        "class A:\n",
        "  def feature1(self):\n",
        "    print(\"A1 is working\")\n",
        "\n",
        "    \n",
        "class B(A):                      #inheritance\n",
        "  def feature2(self):\n",
        "    print(\"A2 is working\")\n",
        "a1=B()\n",
        "a1.feature1()                #we are able to acceses function of superclass"
      ],
      "metadata": {
        "colab": {
          "base_uri": "https://localhost:8080/"
        },
        "id": "yGTXXLKyA8vc",
        "outputId": "f251d3d3-0e3f-4094-a716-965902b58117"
      },
      "execution_count": null,
      "outputs": [
        {
          "output_type": "stream",
          "name": "stdout",
          "text": [
            "A1 is working\n"
          ]
        }
      ]
    },
    {
      "cell_type": "code",
      "source": [
        "#duck typing\n",
        "class colab:\n",
        "  def execute(self):\n",
        "    print(\"saves files automatically\")\n",
        "    print(\"compile code faster\")\n",
        "\n",
        "class notebook:\n",
        "  def execute(self):\n",
        "    print(\"god for large data\")\n",
        "    print(\"compile code slowly\")\n",
        "\n",
        "class laptop:\n",
        "  def code(self , ide):\n",
        "    ide.execute()\n",
        "\n",
        "ide=notebook()\n",
        "lap1 =laptop()\n",
        "lap1.code(ide)"
      ],
      "metadata": {
        "colab": {
          "base_uri": "https://localhost:8080/"
        },
        "id": "X66iXVnZqO5A",
        "outputId": "09b06c47-cb98-4ffe-e540-0793078df852"
      },
      "execution_count": null,
      "outputs": [
        {
          "output_type": "stream",
          "name": "stdout",
          "text": [
            "god for large data\n",
            "compile code slowly\n"
          ]
        }
      ]
    },
    {
      "cell_type": "code",
      "source": [
        "#collections \n",
        "#1\n",
        "#deque is doubly ended queue\n",
        "# Python code to demonstrate deque\n",
        "# It provides O(1) time complexity for append and pop operations as compared to list with O(n) time complexity.\n",
        "\n",
        "from collections import deque\n",
        "  \n",
        "# Declaring deque\n",
        "d =deque()\n",
        "d.append(1)\n",
        "d.append(3)\n",
        "d.appendleft(1)\n",
        "d.extendleft([4,5,6])\n",
        "print(d)\n",
        "d.rotate()\n",
        "print(d)"
      ],
      "metadata": {
        "id": "2CPrZRL86pR5",
        "colab": {
          "base_uri": "https://localhost:8080/"
        },
        "outputId": "cee9e6c1-9c9f-4708-c301-e1a4cc1fe945"
      },
      "execution_count": null,
      "outputs": [
        {
          "output_type": "stream",
          "name": "stdout",
          "text": [
            "deque([6, 5, 4, 1, 1, 3])\n",
            "deque([3, 6, 5, 4, 1, 1])\n"
          ]
        }
      ]
    },
    {
      "cell_type": "code",
      "source": [
        "# Python program to demonstrate\n",
        "# defaultdict\n",
        "#default_factory is a function that provides the default value for the dictionary created. If this parameter is absent then the KeyError is raised.\n",
        "from collections import defaultdict\n",
        "  \n",
        "  \n",
        "# Defining a dict\n",
        "d = defaultdict(int)\n",
        "  \n",
        "d['a']=1\n",
        "d['b']=1\n",
        "\n",
        "print(d['a'])\n",
        "print(d['c'])\n"
      ],
      "metadata": {
        "colab": {
          "base_uri": "https://localhost:8080/"
        },
        "id": "2Ks_T-Jd_7l_",
        "outputId": "21d14699-3ede-4aae-e982-440570096c83"
      },
      "execution_count": null,
      "outputs": [
        {
          "output_type": "stream",
          "name": "stdout",
          "text": [
            "1\n",
            "0\n"
          ]
        }
      ]
    },
    {
      "cell_type": "code",
      "source": [
        "\n",
        "# A Python program to demonstrate working\n",
        "# of OrderedDict \n",
        "# An OrderedDict is also a sub-class of dictionary but unlike dictionary, it remembers the order in which the keys were inserted. \n",
        "\n",
        "\n",
        "  \n",
        "from collections import OrderedDict \n",
        "od = OrderedDict() \n",
        "od['a'] = 1\n",
        "od['b'] = 2\n",
        "od['d'] = 4\n",
        "od['c'] = 3\n",
        "\n",
        "\n",
        "for key, value in od.items(): \n",
        "    print(key, value)\n"
      ],
      "metadata": {
        "colab": {
          "base_uri": "https://localhost:8080/"
        },
        "id": "8aLc895LBn5B",
        "outputId": "6d79b2b7-4743-4f79-d5e0-3e9492e753dd"
      },
      "execution_count": null,
      "outputs": [
        {
          "output_type": "stream",
          "name": "stdout",
          "text": [
            "a 1\n",
            "b 2\n",
            "d 4\n",
            "c 3\n"
          ]
        }
      ]
    },
    {
      "cell_type": "code",
      "source": [
        "#A NamedTuple returns a tuple object with names for each position which the ordinary tuples lack\n",
        "\n",
        "# Python code to demonstrate namedtuple()\n",
        "    \n",
        "from collections import namedtuple\n",
        "    \n",
        "\n",
        "Student = namedtuple('Student',['name','age','roll_no']) \n",
        "S = Student('pratik','22','1906329') \n",
        " #Access using index\n",
        "print (\"The Student age using index is : \",end =\"\") \n",
        "print (S[0]) \n",
        "print(S.name)"
      ],
      "metadata": {
        "colab": {
          "base_uri": "https://localhost:8080/"
        },
        "id": "HsWDcTaUGGhK",
        "outputId": "30b5060f-0436-4909-c14f-ed251572fa8c"
      },
      "execution_count": null,
      "outputs": [
        {
          "output_type": "stream",
          "name": "stdout",
          "text": [
            "The Student age using index is : pratik\n",
            "pratik\n"
          ]
        }
      ]
    },
    {
      "cell_type": "code",
      "source": [
        "#A counter is a sub-class of the dictionary. It is used to keep the count of the elements\n",
        "from collections import Counter \n",
        "a =\"hhhhhhdddddkkaks\"\n",
        "my_counter = Counter(a)\n",
        "print(my_counter)\n",
        "print(my_counter.most_common(1))"
      ],
      "metadata": {
        "colab": {
          "base_uri": "https://localhost:8080/"
        },
        "id": "9dY4BcHCK9Uy",
        "outputId": "027671a8-4acf-455e-ebf8-943d7982fdf8"
      },
      "execution_count": null,
      "outputs": [
        {
          "output_type": "stream",
          "name": "stdout",
          "text": [
            "Counter({'h': 6, 'd': 5, 'k': 3, 'a': 1, 's': 1})\n",
            "[('h', 6)]\n"
          ]
        }
      ]
    },
    {
      "cell_type": "code",
      "source": [
        "#intertools\n",
        "from itertools import combinations\n",
        "a=[1,2,3,4,5]\n",
        "comb=combinations(a,2)\n",
        "print(list(comb))"
      ],
      "metadata": {
        "colab": {
          "base_uri": "https://localhost:8080/"
        },
        "id": "pD3dngs5MCBB",
        "outputId": "f623ef10-4ba5-4a33-845a-987acdcca424"
      },
      "execution_count": null,
      "outputs": [
        {
          "output_type": "stream",
          "name": "stdout",
          "text": [
            "[(1, 2), (1, 3), (1, 4), (1, 5), (2, 3), (2, 4), (2, 5), (3, 4), (3, 5), (4, 5)]\n"
          ]
        }
      ]
    },
    {
      "cell_type": "code",
      "source": [
        "from itertools import permutations\n",
        "a=[1,2,3,4,5]\n",
        "permutation=permutations(a)\n",
        "print(list(permutation))"
      ],
      "metadata": {
        "colab": {
          "base_uri": "https://localhost:8080/"
        },
        "id": "v70siWRpiDPc",
        "outputId": "278af855-847a-4061-cf19-446e17d91a16"
      },
      "execution_count": null,
      "outputs": [
        {
          "output_type": "stream",
          "name": "stdout",
          "text": [
            "[(1, 2, 3, 4, 5), (1, 2, 3, 5, 4), (1, 2, 4, 3, 5), (1, 2, 4, 5, 3), (1, 2, 5, 3, 4), (1, 2, 5, 4, 3), (1, 3, 2, 4, 5), (1, 3, 2, 5, 4), (1, 3, 4, 2, 5), (1, 3, 4, 5, 2), (1, 3, 5, 2, 4), (1, 3, 5, 4, 2), (1, 4, 2, 3, 5), (1, 4, 2, 5, 3), (1, 4, 3, 2, 5), (1, 4, 3, 5, 2), (1, 4, 5, 2, 3), (1, 4, 5, 3, 2), (1, 5, 2, 3, 4), (1, 5, 2, 4, 3), (1, 5, 3, 2, 4), (1, 5, 3, 4, 2), (1, 5, 4, 2, 3), (1, 5, 4, 3, 2), (2, 1, 3, 4, 5), (2, 1, 3, 5, 4), (2, 1, 4, 3, 5), (2, 1, 4, 5, 3), (2, 1, 5, 3, 4), (2, 1, 5, 4, 3), (2, 3, 1, 4, 5), (2, 3, 1, 5, 4), (2, 3, 4, 1, 5), (2, 3, 4, 5, 1), (2, 3, 5, 1, 4), (2, 3, 5, 4, 1), (2, 4, 1, 3, 5), (2, 4, 1, 5, 3), (2, 4, 3, 1, 5), (2, 4, 3, 5, 1), (2, 4, 5, 1, 3), (2, 4, 5, 3, 1), (2, 5, 1, 3, 4), (2, 5, 1, 4, 3), (2, 5, 3, 1, 4), (2, 5, 3, 4, 1), (2, 5, 4, 1, 3), (2, 5, 4, 3, 1), (3, 1, 2, 4, 5), (3, 1, 2, 5, 4), (3, 1, 4, 2, 5), (3, 1, 4, 5, 2), (3, 1, 5, 2, 4), (3, 1, 5, 4, 2), (3, 2, 1, 4, 5), (3, 2, 1, 5, 4), (3, 2, 4, 1, 5), (3, 2, 4, 5, 1), (3, 2, 5, 1, 4), (3, 2, 5, 4, 1), (3, 4, 1, 2, 5), (3, 4, 1, 5, 2), (3, 4, 2, 1, 5), (3, 4, 2, 5, 1), (3, 4, 5, 1, 2), (3, 4, 5, 2, 1), (3, 5, 1, 2, 4), (3, 5, 1, 4, 2), (3, 5, 2, 1, 4), (3, 5, 2, 4, 1), (3, 5, 4, 1, 2), (3, 5, 4, 2, 1), (4, 1, 2, 3, 5), (4, 1, 2, 5, 3), (4, 1, 3, 2, 5), (4, 1, 3, 5, 2), (4, 1, 5, 2, 3), (4, 1, 5, 3, 2), (4, 2, 1, 3, 5), (4, 2, 1, 5, 3), (4, 2, 3, 1, 5), (4, 2, 3, 5, 1), (4, 2, 5, 1, 3), (4, 2, 5, 3, 1), (4, 3, 1, 2, 5), (4, 3, 1, 5, 2), (4, 3, 2, 1, 5), (4, 3, 2, 5, 1), (4, 3, 5, 1, 2), (4, 3, 5, 2, 1), (4, 5, 1, 2, 3), (4, 5, 1, 3, 2), (4, 5, 2, 1, 3), (4, 5, 2, 3, 1), (4, 5, 3, 1, 2), (4, 5, 3, 2, 1), (5, 1, 2, 3, 4), (5, 1, 2, 4, 3), (5, 1, 3, 2, 4), (5, 1, 3, 4, 2), (5, 1, 4, 2, 3), (5, 1, 4, 3, 2), (5, 2, 1, 3, 4), (5, 2, 1, 4, 3), (5, 2, 3, 1, 4), (5, 2, 3, 4, 1), (5, 2, 4, 1, 3), (5, 2, 4, 3, 1), (5, 3, 1, 2, 4), (5, 3, 1, 4, 2), (5, 3, 2, 1, 4), (5, 3, 2, 4, 1), (5, 3, 4, 1, 2), (5, 3, 4, 2, 1), (5, 4, 1, 2, 3), (5, 4, 1, 3, 2), (5, 4, 2, 1, 3), (5, 4, 2, 3, 1), (5, 4, 3, 1, 2), (5, 4, 3, 2, 1)]\n"
          ]
        }
      ]
    },
    {
      "cell_type": "code",
      "source": [
        "from itertools import accumulate\n",
        "a=[1,2,3,4,5]\n",
        "p=accumulate(a)\n",
        "print(list(p))"
      ],
      "metadata": {
        "colab": {
          "base_uri": "https://localhost:8080/"
        },
        "id": "KPXEEF3uia22",
        "outputId": "eb0ec0f5-7af6-4e0e-b45b-1245b11798d5"
      },
      "execution_count": null,
      "outputs": [
        {
          "output_type": "stream",
          "name": "stdout",
          "text": [
            "[1, 3, 6, 10, 15]\n"
          ]
        }
      ]
    },
    {
      "cell_type": "code",
      "source": [
        "from itertools import count\n",
        "for i in count(10):\n",
        "  print(i)\n",
        "  if i>15:\n",
        "    break"
      ],
      "metadata": {
        "colab": {
          "base_uri": "https://localhost:8080/"
        },
        "id": "me6PbRKGi_fU",
        "outputId": "5e26327f-a4c1-4e5e-bc43-45223fe7d0d5"
      },
      "execution_count": null,
      "outputs": [
        {
          "output_type": "stream",
          "name": "stdout",
          "text": [
            "10\n",
            "11\n",
            "12\n",
            "13\n",
            "14\n",
            "15\n",
            "16\n"
          ]
        }
      ]
    },
    {
      "cell_type": "code",
      "source": [
        "#lamda is small one line function that defined without name\n",
        "add = lambda x:x+44\n",
        "print(add(5)) \n",
        "def addd(x):             #similar functions.\n",
        "  return x+44\n",
        "addd(5)"
      ],
      "metadata": {
        "colab": {
          "base_uri": "https://localhost:8080/"
        },
        "id": "SZM7qLxtj30z",
        "outputId": "b8b471fa-f254-45f4-a11c-a61982758205"
      },
      "execution_count": null,
      "outputs": [
        {
          "output_type": "stream",
          "name": "stdout",
          "text": [
            "49\n"
          ]
        },
        {
          "output_type": "execute_result",
          "data": {
            "text/plain": [
              "49"
            ]
          },
          "metadata": {},
          "execution_count": 29
        }
      ]
    },
    {
      "cell_type": "code",
      "source": [
        "points=[(3,4),(-4,5),(9,0),(2,4)]\n",
        "points_sorted=sorted(points)\n",
        "print(points)\n",
        "print(points_sorted) #sorted by x value \n",
        "\n",
        "#for sorting acc to y value\n",
        "ypoint_sorted=sorted(points,key=lambda x:x[1])\n",
        "print(ypoint_sorted)\n"
      ],
      "metadata": {
        "colab": {
          "base_uri": "https://localhost:8080/"
        },
        "id": "THpbIiSvkh1L",
        "outputId": "a55a9e64-97a1-4873-fc54-a12736aee588"
      },
      "execution_count": null,
      "outputs": [
        {
          "output_type": "stream",
          "name": "stdout",
          "text": [
            "[(3, 4), (-4, 5), (9, 0), (2, 4)]\n",
            "[(-4, 5), (2, 4), (3, 4), (9, 0)]\n",
            "[(9, 0), (3, 4), (2, 4), (-4, 5)]\n"
          ]
        }
      ]
    },
    {
      "cell_type": "code",
      "source": [
        "a=[1,2,3,4,5]\n",
        "b=map(lambda x:x**2 ,a)\n",
        "print(list(b))\n",
        "\n",
        "#similar way\n",
        "c=[i**2for i in a]\n",
        "print(c)"
      ],
      "metadata": {
        "colab": {
          "base_uri": "https://localhost:8080/"
        },
        "id": "FNSvwRpxlvOM",
        "outputId": "ccde1aaa-3018-4cbc-e7d5-fe532ca6736b"
      },
      "execution_count": null,
      "outputs": [
        {
          "output_type": "stream",
          "name": "stdout",
          "text": [
            "[1, 4, 9, 16, 25]\n",
            "[1, 4, 9, 16, 25]\n"
          ]
        }
      ]
    },
    {
      "cell_type": "code",
      "source": [
        "import json\n",
        "person ={\"name\" :\"pratik\" , \"age\":22 ,\"collage_name\":\"IIT GOA\"}\n",
        "person_json=json.dumps(person , indent=4 , sort_keys=True)           # to convert into json data\n",
        "print(person_json)\n",
        "person=json.loads(person_json)                                       # to convert json to python data\n",
        "print(person)"
      ],
      "metadata": {
        "id": "vWmI7RYDmqL5",
        "colab": {
          "base_uri": "https://localhost:8080/"
        },
        "outputId": "b28bb566-b423-4c9f-e169-d7e7a967b43f"
      },
      "execution_count": null,
      "outputs": [
        {
          "output_type": "stream",
          "name": "stdout",
          "text": [
            "{\n",
            "    \"age\": 22,\n",
            "    \"collage_name\": \"IIT GOA\",\n",
            "    \"name\": \"pratik\"\n",
            "}\n",
            "{'age': 22, 'collage_name': 'IIT GOA', 'name': 'pratik'}\n"
          ]
        }
      ]
    },
    {
      "cell_type": "code",
      "source": [
        "#random numbers\n",
        "import random\n",
        "a = random.uniform(0,100)   #it will produce random float\n",
        "b = random.randint(0,100)   #it will produce random int(upperbound is not included)\n",
        "c = random.randrange(0,100)   #it will produce random int(upperbound is included)\n",
        "d = random.normalvariate(0,1)  # i will give random value from standard distrubtion with mean 0 and stadar deviation 1 \n",
        "print(a)\n",
        "print(b)\n",
        "print(c)\n",
        "print(d)\n",
        "\n",
        "list1 = [1, 2, 3, 4]          # if the seeding value is 5 then the output of the below program will always be the same.\n",
        "print(random.choice(list1))\n",
        "\n",
        "random.seed(1)\n",
        "  \n",
        "print(random.random())\n",
        "print(random.random())"
      ],
      "metadata": {
        "colab": {
          "base_uri": "https://localhost:8080/"
        },
        "id": "_o_wIcXKxuan",
        "outputId": "f58ffed8-e3c8-4a6c-89ae-d7da957f99bd"
      },
      "execution_count": null,
      "outputs": [
        {
          "output_type": "stream",
          "name": "stdout",
          "text": [
            "76.3774618976614\n",
            "32\n",
            "15\n",
            "-0.01422544551078489\n",
            "4\n",
            "0.13436424411240122\n",
            "0.8474337369372327\n"
          ]
        }
      ]
    },
    {
      "cell_type": "code",
      "source": [
        "# decorators\n",
        "# decorators allow us to wrap another function in order to extend the behaviour of the wrapped function, without permanently modifying it.\n",
        "def function1(func):\n",
        "  def function2():\n",
        "    print(\"start\")\n",
        "    func()\n",
        "    print(\"end\")\n",
        "  return function2\n",
        "\n",
        "@function1            # similar yhing we can do by            function3 = function1(function3)\n",
        "def function3():\n",
        "  print(\"helloooo broooo\")\n",
        "\n",
        "function3()"
      ],
      "metadata": {
        "colab": {
          "base_uri": "https://localhost:8080/"
        },
        "id": "ftPxzuY_yr8U",
        "outputId": "1e1a6eec-e723-428a-8576-7a6b9c525237"
      },
      "execution_count": null,
      "outputs": [
        {
          "output_type": "stream",
          "name": "stdout",
          "text": [
            "start\n",
            "helloooo broooo\n",
            "end\n"
          ]
        }
      ]
    },
    {
      "cell_type": "code",
      "source": [
        "#genarators \n",
        "# they are very memory efficient usful for large dataset\n",
        "\n",
        "def mygenrator():\n",
        "  yield 1\n",
        "  yield 2\n",
        "  yield 3\n",
        "g= mygenrator()\n",
        "value = next(g)\n",
        "print(value)\n",
        "value = next(g)\n",
        "print(value)\n",
        "value = next(g)\n",
        "print(value)"
      ],
      "metadata": {
        "colab": {
          "base_uri": "https://localhost:8080/"
        },
        "id": "FlTr_MBX63_d",
        "outputId": "4e2a8461-12f3-4fe0-f487-38e3db50bfbb"
      },
      "execution_count": null,
      "outputs": [
        {
          "output_type": "stream",
          "name": "stdout",
          "text": [
            "1\n",
            "2\n",
            "3\n"
          ]
        }
      ]
    },
    {
      "cell_type": "code",
      "source": [
        "import sys\n",
        "def first1(n):\n",
        "  nums=[]\n",
        "  num = 0\n",
        "  while num<n:\n",
        "    nums.append(num)\n",
        "    num +=1\n",
        "  return nums\n",
        "\n",
        "def genarotor_num(n):\n",
        "  num=0\n",
        "  while num<n:\n",
        "    yield num\n",
        "    num +=1\n",
        "\n",
        "print(first1(10))\n",
        "\n",
        "print(list(genarotor_num(10)))\n",
        "print(sys.getsizeof(first1(1000000)))\n",
        "print(sys.getsizeof(genarotor_num(1000000)))  # we can see the memory difference its huge."
      ],
      "metadata": {
        "colab": {
          "base_uri": "https://localhost:8080/"
        },
        "id": "2AbuZmCfF_3G",
        "outputId": "82c2b6ea-647f-4b01-c691-49209c8d225b"
      },
      "execution_count": null,
      "outputs": [
        {
          "output_type": "stream",
          "name": "stdout",
          "text": [
            "[0, 1, 2, 3, 4, 5, 6, 7, 8, 9]\n",
            "[0, 1, 2, 3, 4, 5, 6, 7, 8, 9]\n",
            "8697472\n",
            "128\n"
          ]
        }
      ]
    },
    {
      "cell_type": "code",
      "source": [
        "from time import sleep\n",
        "from threading import *\n",
        "\n",
        "class hello(Thread):\n",
        "  def run(self):\n",
        "    for i in range(5):\n",
        "      print(\"helloe\")\n",
        "      sleep(1)\n",
        "\n",
        "class hey(Thread):\n",
        "  def run(self):\n",
        "    for i in range(5):\n",
        "      print(\"hey\")\n",
        "      sleep(1)\n",
        "t1=hello()\n",
        "t2=hey()\n",
        "\n",
        "t1.start()\n",
        "sleep(0.2)\n",
        "t2.start()\n",
        "\n",
        "t1.join()   #by using this we can stop main function until threads get completed\n",
        "t2.join()\n",
        "print(\"end\")"
      ],
      "metadata": {
        "id": "cCqrd_8tJQkX",
        "colab": {
          "base_uri": "https://localhost:8080/"
        },
        "outputId": "e3bbee07-d692-4ef5-f220-1e7a20aab490"
      },
      "execution_count": null,
      "outputs": [
        {
          "output_type": "stream",
          "name": "stdout",
          "text": [
            "helloe\n",
            "hey\n",
            "helloe\n",
            "hey\n",
            "helloe\n",
            "hey\n",
            "helloe\n",
            "hey\n",
            "helloe\n",
            "hey\n",
            "end\n"
          ]
        }
      ]
    },
    {
      "cell_type": "code",
      "source": [
        ""
      ],
      "metadata": {
        "id": "Giw-cnl662JQ"
      },
      "execution_count": null,
      "outputs": []
    }
  ]
}