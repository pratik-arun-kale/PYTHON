{
  "nbformat": 4,
  "nbformat_minor": 0,
  "metadata": {
    "colab": {
      "name": "linkedkist.ipynb",
      "provenance": [],
      "collapsed_sections": [],
      "authorship_tag": "ABX9TyOvrinBLHARrZEgw1L6qgDz",
      "include_colab_link": true
    },
    "kernelspec": {
      "name": "python3",
      "display_name": "Python 3"
    },
    "language_info": {
      "name": "python"
    }
  },
  "cells": [
    {
      "cell_type": "markdown",
      "metadata": {
        "id": "view-in-github",
        "colab_type": "text"
      },
      "source": [
        "<a href=\"https://colab.research.google.com/github/pratik-arun-kale/PYTHON/blob/main/linkedkist.ipynb\" target=\"_parent\"><img src=\"https://colab.research.google.com/assets/colab-badge.svg\" alt=\"Open In Colab\"/></a>"
      ]
    },
    {
      "cell_type": "code",
      "execution_count": 47,
      "metadata": {
        "id": "iRLcnYQN6eeX"
      },
      "outputs": [],
      "source": [
        "#linked list \n",
        "#first we nned to create node class representing data and adress or pointer of next node.\n",
        "\n",
        "class Node:\n",
        "  def __init__(self,data=None ,next=None) -> None:                                 # Function to initialize the node object\n",
        "      self.data = data                                             # Assign data\n",
        "      self.next= next                                             \n",
        "\n",
        "\n",
        "class linkedlist:\n",
        "  # Function to initialize the Linked List object\n",
        "  def __init__(self): \n",
        "    self.head = None\n",
        "       \n",
        "\n",
        "\n",
        "  #  function for printing linked list\n",
        "  def print(self):\n",
        "    if self.head is None:\n",
        "      print(\"linked list is empty\")\n",
        "      return\n",
        "    itr = self.head                                  # itr is temperory variable to iterate through linked list\n",
        "    l_l_string =''                                   # we are creating the string to print value\n",
        "    while itr:\n",
        "      l_l_string += str(itr.data) +\"--->\"            # we are appendinfg the data.\n",
        "      itr = itr.next\n",
        "    print(l_l_string)\n",
        "\n",
        "  def get_length(self):                             #length function\n",
        "    count=0\n",
        "    itr=self.head\n",
        "    while itr:\n",
        "      count +=1\n",
        "      itr = itr.next\n",
        "    return count\n",
        "    \n",
        "\n",
        "\n",
        "  def insert_at_begining(self, data):                # function for inserting at begining\n",
        "    node = Node(data, self.head)\n",
        "    self.head = node\n",
        "  \n",
        "\n",
        "  def insert_at_end(self,data):\n",
        "    if self.head is None:                           # when linked list is empty\n",
        "      self.head=Node(data, None)\n",
        "      return\n",
        "    itr = self.head\n",
        "    while itr.next:\n",
        "      itr = itr.next\n",
        "\n",
        "    itr.next =Node(data,None)\n",
        "  \n",
        "\n",
        "\n",
        "  def insert_value(self,data_list):                   # by using this function we convert array list into linked list \n",
        "    self.head=None                                    # for this linked list should be empty first\n",
        "    for data in data_list:\n",
        "      self.insert_at_end(data)\n",
        "\n",
        "\n",
        "\n",
        "#deleting value from perticular index\n",
        "  def delete_value(self ,index):\n",
        "    if index <0 or index>=self.get_length():\n",
        "      raise Exception(\"invalid index\")\n",
        "\n",
        "    if index==0:\n",
        "      self.head=self.head.next\n",
        "      return\n",
        "\n",
        "    count=0\n",
        "    itr=self.head\n",
        "    while itr:\n",
        "      if count==index-1:\n",
        "        itr.next=itr.next.next\n",
        "        break\n",
        "      itr =itr.next\n",
        "      count +=1\n",
        "\n",
        "\n",
        "\n",
        "# inserting at perticular index.\n",
        "  def insert_at_index(self,index,data):\n",
        "    if index <0 or index>=self.get_length():\n",
        "      raise Exception(\"invalid index\")\n",
        "\n",
        "    if index==0:\n",
        "      self.insert_at_begining(data)\n",
        "      return\n",
        "    \n",
        "    count=0\n",
        "    itr=self.head\n",
        "    while itr:\n",
        "      if count == index-1:\n",
        "         node =Node(data , itr.next)\n",
        "         itr.next = node\n",
        "         break\n",
        "      itr =itr.next\n",
        "      count+=1\n",
        "\n"
      ]
    },
    {
      "cell_type": "code",
      "source": [
        "if __name__ == '__main__':\n",
        "  ll = linkedlist()\n",
        "  \n",
        "  ll.insert_value([22,34,55])\n",
        "  ll.insert_at_begining(9)\n",
        "  ll.insert_at_end(45)\n",
        "  print(\"length :\" , ll.get_length())\n",
        "  print(\"linked list: \")\n",
        "  ll.print()\n",
        "  ll.delete_value(3)\n",
        "  ll.insert_at_index(3 ,\" value \")\n",
        "  print(\"linked list after deleting : \")\n",
        "  ll.print()"
      ],
      "metadata": {
        "colab": {
          "base_uri": "https://localhost:8080/"
        },
        "id": "AErv6uzt9oo5",
        "outputId": "459c7667-0639-4dc1-d6ed-5ca11d8f8623"
      },
      "execution_count": 49,
      "outputs": [
        {
          "output_type": "stream",
          "name": "stdout",
          "text": [
            "length : 5\n",
            "linked list: \n",
            "9--->22--->34--->55--->45--->\n",
            "linked list after deleting : \n",
            "9--->22--->34---> value --->45--->\n"
          ]
        }
      ]
    },
    {
      "cell_type": "code",
      "source": [
        ""
      ],
      "metadata": {
        "id": "t6_PY75mGcB9"
      },
      "execution_count": null,
      "outputs": []
    }
  ]
}